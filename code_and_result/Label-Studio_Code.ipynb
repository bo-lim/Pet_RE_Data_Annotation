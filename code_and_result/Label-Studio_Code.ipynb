{
 "cells": [
  {
   "cell_type": "code",
   "execution_count": 11,
   "id": "12f24a34",
   "metadata": {},
   "outputs": [],
   "source": [
    "import pandas as pd\n",
    "from collections import defaultdict\n",
    "from pandas import Series, DataFrame"
   ]
  },
  {
   "cell_type": "code",
   "execution_count": 5,
   "id": "c6137973",
   "metadata": {},
   "outputs": [],
   "source": [
    "entity_data = pd.read_json('./project.json')"
   ]
  },
  {
   "cell_type": "code",
   "execution_count": 7,
   "id": "c5635c18",
   "metadata": {},
   "outputs": [],
   "source": [
    "del entity_data['file_upload'], entity_data['predictions'], entity_data['drafts'], entity_data['meta'], entity_data['created_at'], entity_data['updated_at'], entity_data['id']"
   ]
  },
  {
   "cell_type": "code",
   "execution_count": 8,
   "id": "05268f48",
   "metadata": {},
   "outputs": [],
   "source": [
    "origin = ['no_relation', 'anm:서식지', 'anm:대체표현', 'anm:신체적 특징', 'anm:비신체적 특징', 'anm:사냥감', 'anm:역할', 'anm:유래', 'anm:개체수', 'org:하위집단']\n",
    "change = ['no_relation', 'anm:habitat', 'anm:alternate_name','anm:physical', 'anm:habit', 'anm:enemy', 'anm:role', 'anm:origin', 'anm:number_of_members', 'org:sub_group']\n",
    "\n",
    "\n",
    "dict_change = dict(zip(origin, change))"
   ]
  },
  {
   "cell_type": "code",
   "execution_count": 10,
   "id": "986394c6",
   "metadata": {},
   "outputs": [],
   "source": [
    "SUB = []\n",
    "OBJ = []\n",
    "sentences = []\n",
    "relations = []\n",
    "\n",
    "for annotations, data in zip(entity_data['annotations'], entity_data['data']):\n",
    "    key_dict = defaultdict(str)\n",
    "    list = annotations[0]['result']\n",
    "    sentence = data['text']\n",
    "    \n",
    "    for elem in list:\n",
    "        if 'value' in elem:\n",
    "            key_dict[elem['id']] = elem['value']\n",
    "        \n",
    "        else:\n",
    "            from_id = key_dict[elem['from_id']]\n",
    "            to_id = key_dict[elem['to_id']]\n",
    "            \n",
    "            from_id['type'] = str(from_id['labels'][0]).split('_')[1].lower()            \n",
    "            \n",
    "            if elem['direction'] == 'right':\n",
    "                SUB.append(from_id)\n",
    "                OBJ.append(to_id)\n",
    "                sentences.append(sentence)\n",
    "                relations.append(dict_change[elem['labels'][0]])\n",
    "            else:\n",
    "                OBJ.append(from_id)\n",
    "                SUB.append(to_id)\n",
    "                sentences.append(sentence)\n",
    "                relations.append(dict_change[elem['labels'][0]])\n",
    "    \n",
    "    del(key_dict)"
   ]
  },
  {
   "cell_type": "code",
   "execution_count": 12,
   "id": "35289fbf",
   "metadata": {},
   "outputs": [],
   "source": [
    "df = pd.DataFrame({'sentence':sentences, 'subject_entity':SUB, 'object_entity':OBJ, 'class':relations})"
   ]
  },
  {
   "cell_type": "code",
   "execution_count": 13,
   "id": "ff9da22b",
   "metadata": {},
   "outputs": [
    {
     "data": {
      "text/html": [
       "<div>\n",
       "<style scoped>\n",
       "    .dataframe tbody tr th:only-of-type {\n",
       "        vertical-align: middle;\n",
       "    }\n",
       "\n",
       "    .dataframe tbody tr th {\n",
       "        vertical-align: top;\n",
       "    }\n",
       "\n",
       "    .dataframe thead th {\n",
       "        text-align: right;\n",
       "    }\n",
       "</style>\n",
       "<table border=\"1\" class=\"dataframe\">\n",
       "  <thead>\n",
       "    <tr style=\"text-align: right;\">\n",
       "      <th></th>\n",
       "      <th>sentence</th>\n",
       "      <th>subject_entity</th>\n",
       "      <th>object_entity</th>\n",
       "      <th>class</th>\n",
       "    </tr>\n",
       "  </thead>\n",
       "  <tbody>\n",
       "    <tr>\n",
       "      <th>0</th>\n",
       "      <td>중국산악고양이는 야행성으로, 주로 쥐, 새, 두더지, 토끼 등을 먹는다.</td>\n",
       "      <td>{'start': 0, 'end': 7, 'text': '중국산악고양이', 'lab...</td>\n",
       "      <td>{'start': 25, 'end': 28, 'text': '두더지', 'label...</td>\n",
       "      <td>anm:enemy</td>\n",
       "    </tr>\n",
       "    <tr>\n",
       "      <th>1</th>\n",
       "      <td>이 고양이는 2002년 이래로 IUCN 적색 목록에 취약종으로 등재되어 있고, 현재...</td>\n",
       "      <td>{'start': 16, 'end': 21, 'text': ' IUCN', 'lab...</td>\n",
       "      <td>{'start': 2, 'end': 5, 'text': '고양이', 'labels'...</td>\n",
       "      <td>org:sub_group</td>\n",
       "    </tr>\n",
       "    <tr>\n",
       "      <th>2</th>\n",
       "      <td>이 고양이는 2002년 이래로 IUCN 적색 목록에 취약종으로 등재되어 있고, 현재...</td>\n",
       "      <td>{'start': 2, 'end': 5, 'text': '고양이', 'labels'...</td>\n",
       "      <td>{'start': 51, 'end': 59, 'text': '10,000마리', '...</td>\n",
       "      <td>anm:number_of_members</td>\n",
       "    </tr>\n",
       "    <tr>\n",
       "      <th>3</th>\n",
       "      <td>중국산악고양이는 고양이속에 속하는 소형 고양이과 동물의 일종이다.</td>\n",
       "      <td>{'start': 19, 'end': 26, 'text': '소형 고양이과', 'l...</td>\n",
       "      <td>{'start': 0, 'end': 7, 'text': '중국산악고양이', 'lab...</td>\n",
       "      <td>org:sub_group</td>\n",
       "    </tr>\n",
       "    <tr>\n",
       "      <th>4</th>\n",
       "      <td>\"제네타\"(\"Genetta\")라는 학명은 1817년 조르주 퀴비에(Georges C...</td>\n",
       "      <td>{'start': 1, 'end': 4, 'text': '제네타', 'labels'...</td>\n",
       "      <td>{'start': 29, 'end': 36, 'text': '조르주 퀴비에', 'l...</td>\n",
       "      <td>anm:origin</td>\n",
       "    </tr>\n",
       "  </tbody>\n",
       "</table>\n",
       "</div>"
      ],
      "text/plain": [
       "                                            sentence  \\\n",
       "0           중국산악고양이는 야행성으로, 주로 쥐, 새, 두더지, 토끼 등을 먹는다.   \n",
       "1  이 고양이는 2002년 이래로 IUCN 적색 목록에 취약종으로 등재되어 있고, 현재...   \n",
       "2  이 고양이는 2002년 이래로 IUCN 적색 목록에 취약종으로 등재되어 있고, 현재...   \n",
       "3               중국산악고양이는 고양이속에 속하는 소형 고양이과 동물의 일종이다.   \n",
       "4  \"제네타\"(\"Genetta\")라는 학명은 1817년 조르주 퀴비에(Georges C...   \n",
       "\n",
       "                                      subject_entity  \\\n",
       "0  {'start': 0, 'end': 7, 'text': '중국산악고양이', 'lab...   \n",
       "1  {'start': 16, 'end': 21, 'text': ' IUCN', 'lab...   \n",
       "2  {'start': 2, 'end': 5, 'text': '고양이', 'labels'...   \n",
       "3  {'start': 19, 'end': 26, 'text': '소형 고양이과', 'l...   \n",
       "4  {'start': 1, 'end': 4, 'text': '제네타', 'labels'...   \n",
       "\n",
       "                                       object_entity                  class  \n",
       "0  {'start': 25, 'end': 28, 'text': '두더지', 'label...              anm:enemy  \n",
       "1  {'start': 2, 'end': 5, 'text': '고양이', 'labels'...          org:sub_group  \n",
       "2  {'start': 51, 'end': 59, 'text': '10,000마리', '...  anm:number_of_members  \n",
       "3  {'start': 0, 'end': 7, 'text': '중국산악고양이', 'lab...          org:sub_group  \n",
       "4  {'start': 29, 'end': 36, 'text': '조르주 퀴비에', 'l...             anm:origin  "
      ]
     },
     "execution_count": 13,
     "metadata": {},
     "output_type": "execute_result"
    }
   ],
   "source": [
    "df.head()"
   ]
  },
  {
   "cell_type": "code",
   "execution_count": 14,
   "id": "6599a5f0",
   "metadata": {},
   "outputs": [],
   "source": [
    "for data, data2 in zip(df['object_entity'],df['subject_entity']):\n",
    "     if not 'type' in data:\n",
    "            data['type'] = data['labels'][0].split('_')[1].lower()   \n",
    "     if not 'type' in data2:\n",
    "            data2['type'] = data2['labels'][0].split('_')[1].lower()   "
   ]
  },
  {
   "cell_type": "code",
   "execution_count": 15,
   "id": "a8bece7b",
   "metadata": {},
   "outputs": [],
   "source": [
    "for sentence, data in zip(df['sentence'],df['subject_entity']):\n",
    "     if not 'type' in data:\n",
    "            print(sentence)"
   ]
  },
  {
   "cell_type": "code",
   "execution_count": 16,
   "id": "01f7ff42",
   "metadata": {},
   "outputs": [],
   "source": [
    "for data, data2 in zip(df['object_entity'],df['subject_entity']):\n",
    "    if 'labels' in data:\n",
    "        data.pop('labels')\n",
    "    if 'labels' in data2:\n",
    "        data2.pop('labels')"
   ]
  },
  {
   "cell_type": "code",
   "execution_count": 17,
   "id": "57e25c05",
   "metadata": {},
   "outputs": [],
   "source": [
    "def special_token_sentence(text, subj_start, subj_end, obj_start, obj_end):\n",
    "    sentence1: str\n",
    "    sentence2: str\n",
    "\n",
    "    if subj_start < obj_start:\n",
    "        sentence1 = text[:obj_start] + '<obj:' + text[obj_start:obj_end] + '>' + text[obj_end:]\n",
    "        new_text = sentence1[:subj_start] + '<sbj:' + sentence1[subj_start:subj_end] + '>' + sentence1[subj_end:]\n",
    "\n",
    "    else:\n",
    "        sentence1 = text[:subj_start] + '<sbj:' + text[subj_start:subj_end] + '>' + text[subj_end:]\n",
    "        new_text = sentence1[:obj_start] + '<obj:' + sentence1[obj_start:obj_end] + '>' + sentence1[obj_end:]\n",
    "    return new_text"
   ]
  },
  {
   "cell_type": "code",
   "execution_count": 18,
   "id": "4122c823",
   "metadata": {},
   "outputs": [],
   "source": [
    "new_sentence = []\n",
    "for sentence, sbj, obj in zip(df['sentence'], df['subject_entity'], df['object_entity']):\n",
    "    new_sentence.append(special_token_sentence(sentence, sbj['start'], sbj['end'], obj['start'], obj['end']))"
   ]
  },
  {
   "cell_type": "code",
   "execution_count": 19,
   "id": "f555e679",
   "metadata": {},
   "outputs": [],
   "source": [
    "df['new_sentence'] = new_sentence"
   ]
  },
  {
   "cell_type": "code",
   "execution_count": 20,
   "id": "f7e4c9fe",
   "metadata": {},
   "outputs": [],
   "source": [
    "df = df[['sentence', 'new_sentence', 'subject_entity', 'object_entity', 'class']]"
   ]
  },
  {
   "cell_type": "code",
   "execution_count": null,
   "id": "8d870f48",
   "metadata": {},
   "outputs": [],
   "source": [
    "df.to_csv('./file.csv', index=False)"
   ]
  }
 ],
 "metadata": {
  "kernelspec": {
   "display_name": "Python 3 (ipykernel)",
   "language": "python",
   "name": "python3"
  },
  "language_info": {
   "codemirror_mode": {
    "name": "ipython",
    "version": 3
   },
   "file_extension": ".py",
   "mimetype": "text/x-python",
   "name": "python",
   "nbconvert_exporter": "python",
   "pygments_lexer": "ipython3",
   "version": "3.9.7"
  }
 },
 "nbformat": 4,
 "nbformat_minor": 5
}
