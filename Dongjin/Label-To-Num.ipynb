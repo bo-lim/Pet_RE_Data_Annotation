{
 "cells": [
  {
   "cell_type": "code",
   "execution_count": 49,
   "id": "83cf6147",
   "metadata": {},
   "outputs": [],
   "source": [
    "import pandas as pd"
   ]
  },
  {
   "cell_type": "code",
   "execution_count": 50,
   "id": "c303c811",
   "metadata": {},
   "outputs": [],
   "source": [
    "data1 = pd.read_csv('./miml_iaa.csv')"
   ]
  },
  {
   "cell_type": "code",
   "execution_count": 51,
   "id": "595e2c47",
   "metadata": {},
   "outputs": [
    {
     "data": {
      "text/html": [
       "<div>\n",
       "<style scoped>\n",
       "    .dataframe tbody tr th:only-of-type {\n",
       "        vertical-align: middle;\n",
       "    }\n",
       "\n",
       "    .dataframe tbody tr th {\n",
       "        vertical-align: top;\n",
       "    }\n",
       "\n",
       "    .dataframe thead th {\n",
       "        text-align: right;\n",
       "    }\n",
       "</style>\n",
       "<table border=\"1\" class=\"dataframe\">\n",
       "  <thead>\n",
       "    <tr style=\"text-align: right;\">\n",
       "      <th></th>\n",
       "      <th>동진</th>\n",
       "      <th>치영</th>\n",
       "      <th>설아</th>\n",
       "      <th>보림</th>\n",
       "      <th>재윤</th>\n",
       "    </tr>\n",
       "  </thead>\n",
       "  <tbody>\n",
       "    <tr>\n",
       "      <th>0</th>\n",
       "      <td>anm:enemy</td>\n",
       "      <td>anm:enemy</td>\n",
       "      <td>anm:enemy</td>\n",
       "      <td>anm:enemy</td>\n",
       "      <td>anm:enemy</td>\n",
       "    </tr>\n",
       "    <tr>\n",
       "      <th>1</th>\n",
       "      <td>no_relation</td>\n",
       "      <td>no_relation</td>\n",
       "      <td>anm:origin</td>\n",
       "      <td>no_relation</td>\n",
       "      <td>no_relation</td>\n",
       "    </tr>\n",
       "    <tr>\n",
       "      <th>2</th>\n",
       "      <td>anm:number_of_members</td>\n",
       "      <td>anm:number_of_members</td>\n",
       "      <td>anm:number_of_members</td>\n",
       "      <td>anm:number_of_members</td>\n",
       "      <td>anm:number_of_members</td>\n",
       "    </tr>\n",
       "    <tr>\n",
       "      <th>3</th>\n",
       "      <td>org:sub_group</td>\n",
       "      <td>org:sub_group</td>\n",
       "      <td>org:sub_group</td>\n",
       "      <td>org:sub_group</td>\n",
       "      <td>org:sub_group</td>\n",
       "    </tr>\n",
       "    <tr>\n",
       "      <th>4</th>\n",
       "      <td>anm:origin</td>\n",
       "      <td>anm:origin</td>\n",
       "      <td>anm:origin</td>\n",
       "      <td>anm:origin</td>\n",
       "      <td>anm:origin</td>\n",
       "    </tr>\n",
       "  </tbody>\n",
       "</table>\n",
       "</div>"
      ],
      "text/plain": [
       "                      동진                     치영                     설아  \\\n",
       "0              anm:enemy              anm:enemy              anm:enemy   \n",
       "1            no_relation            no_relation             anm:origin   \n",
       "2  anm:number_of_members  anm:number_of_members  anm:number_of_members   \n",
       "3          org:sub_group          org:sub_group          org:sub_group   \n",
       "4             anm:origin             anm:origin             anm:origin   \n",
       "\n",
       "                      보림                     재윤  \n",
       "0              anm:enemy              anm:enemy  \n",
       "1            no_relation            no_relation  \n",
       "2  anm:number_of_members  anm:number_of_members  \n",
       "3          org:sub_group          org:sub_group  \n",
       "4             anm:origin             anm:origin  "
      ]
     },
     "execution_count": 51,
     "metadata": {},
     "output_type": "execute_result"
    }
   ],
   "source": [
    "data1.head()"
   ]
  },
  {
   "cell_type": "code",
   "execution_count": 52,
   "id": "88288471",
   "metadata": {},
   "outputs": [],
   "source": [
    "re_list = [\"no_relation\", \"anm:habitat\", \"anm:alternate_name\", \"anm:physical\", \"anm:habit\", \"anm:enemy\", \"anm:role\", \"anm:origin\", \"anm:number_of_members\",\"org:sub_group\"]\n",
    "num = list(range(10))"
   ]
  },
  {
   "cell_type": "code",
   "execution_count": 53,
   "id": "6df7e4ab",
   "metadata": {},
   "outputs": [],
   "source": [
    "data = dict(zip(re_list, num))"
   ]
  },
  {
   "cell_type": "code",
   "execution_count": 54,
   "id": "76f6fc82",
   "metadata": {
    "scrolled": true
   },
   "outputs": [
    {
     "name": "stdout",
     "output_type": "stream",
     "text": [
      "{'no_relation': 0, 'anm:habitat': 1, 'anm:alternate_name': 2, 'anm:physical': 3, 'anm:habit': 4, 'anm:enemy': 5, 'anm:role': 6, 'anm:origin': 7, 'anm:number_of_members': 8, 'org:sub_group': 9}\n"
     ]
    }
   ],
   "source": [
    "print(data)"
   ]
  },
  {
   "cell_type": "code",
   "execution_count": 55,
   "id": "f6aa58f5",
   "metadata": {},
   "outputs": [],
   "source": [
    "data1 = data1[{\"동진\",\"치영\",\"설아\",\"보림\",\"재윤\"}].replace(data)\n",
    "data1 = data1[[\"동진\", \"치영\", \"설아\", \"보림\", \"재윤\"]]"
   ]
  },
  {
   "cell_type": "code",
   "execution_count": 56,
   "id": "1fa8f07f",
   "metadata": {},
   "outputs": [
    {
     "data": {
      "text/html": [
       "<div>\n",
       "<style scoped>\n",
       "    .dataframe tbody tr th:only-of-type {\n",
       "        vertical-align: middle;\n",
       "    }\n",
       "\n",
       "    .dataframe tbody tr th {\n",
       "        vertical-align: top;\n",
       "    }\n",
       "\n",
       "    .dataframe thead th {\n",
       "        text-align: right;\n",
       "    }\n",
       "</style>\n",
       "<table border=\"1\" class=\"dataframe\">\n",
       "  <thead>\n",
       "    <tr style=\"text-align: right;\">\n",
       "      <th></th>\n",
       "      <th>동진</th>\n",
       "      <th>치영</th>\n",
       "      <th>설아</th>\n",
       "      <th>보림</th>\n",
       "      <th>재윤</th>\n",
       "    </tr>\n",
       "  </thead>\n",
       "  <tbody>\n",
       "    <tr>\n",
       "      <th>0</th>\n",
       "      <td>5</td>\n",
       "      <td>5</td>\n",
       "      <td>5</td>\n",
       "      <td>5</td>\n",
       "      <td>5</td>\n",
       "    </tr>\n",
       "    <tr>\n",
       "      <th>1</th>\n",
       "      <td>0</td>\n",
       "      <td>0</td>\n",
       "      <td>7</td>\n",
       "      <td>0</td>\n",
       "      <td>0</td>\n",
       "    </tr>\n",
       "    <tr>\n",
       "      <th>2</th>\n",
       "      <td>8</td>\n",
       "      <td>8</td>\n",
       "      <td>8</td>\n",
       "      <td>8</td>\n",
       "      <td>8</td>\n",
       "    </tr>\n",
       "    <tr>\n",
       "      <th>3</th>\n",
       "      <td>9</td>\n",
       "      <td>9</td>\n",
       "      <td>9</td>\n",
       "      <td>9</td>\n",
       "      <td>9</td>\n",
       "    </tr>\n",
       "    <tr>\n",
       "      <th>4</th>\n",
       "      <td>7</td>\n",
       "      <td>7</td>\n",
       "      <td>7</td>\n",
       "      <td>7</td>\n",
       "      <td>7</td>\n",
       "    </tr>\n",
       "  </tbody>\n",
       "</table>\n",
       "</div>"
      ],
      "text/plain": [
       "   동진  치영  설아  보림  재윤\n",
       "0   5   5   5   5   5\n",
       "1   0   0   7   0   0\n",
       "2   8   8   8   8   8\n",
       "3   9   9   9   9   9\n",
       "4   7   7   7   7   7"
      ]
     },
     "execution_count": 56,
     "metadata": {},
     "output_type": "execute_result"
    }
   ],
   "source": [
    "data1.head()"
   ]
  },
  {
   "cell_type": "code",
   "execution_count": 58,
   "id": "138221e9",
   "metadata": {},
   "outputs": [],
   "source": [
    "data1.to_excel('./num_miml.xlsx', index=False)"
   ]
  },
  {
   "cell_type": "code",
   "execution_count": null,
   "id": "bb467a9b",
   "metadata": {},
   "outputs": [],
   "source": []
  }
 ],
 "metadata": {
  "kernelspec": {
   "display_name": "Python 3 (ipykernel)",
   "language": "python",
   "name": "python3"
  },
  "language_info": {
   "codemirror_mode": {
    "name": "ipython",
    "version": 3
   },
   "file_extension": ".py",
   "mimetype": "text/x-python",
   "name": "python",
   "nbconvert_exporter": "python",
   "pygments_lexer": "ipython3",
   "version": "3.9.7"
  }
 },
 "nbformat": 4,
 "nbformat_minor": 5
}
